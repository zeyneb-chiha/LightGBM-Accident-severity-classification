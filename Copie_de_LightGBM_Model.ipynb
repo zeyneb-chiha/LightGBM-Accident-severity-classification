{
  "nbformat": 4,
  "nbformat_minor": 0,
  "metadata": {
    "accelerator": "GPU",
    "colab": {
      "name": "Copie_de_LightGBM_Model.ipynb",
      "provenance": [],
      "collapsed_sections": []
    },
    "kernelspec": {
      "display_name": "Python 3",
      "name": "python3"
    }
  },
  "cells": [
    {
      "cell_type": "code",
      "metadata": {
        "id": "fXyKgBxQJ2HH",
        "colab": {
          "base_uri": "https://localhost:8080/"
        },
        "outputId": "e2969a03-a610-4c7f-bd4a-bd0ff1bfe07e"
      },
      "source": [
        "from google.colab import drive \r\n",
        "drive.mount('/content/drive')\r\n"
      ],
      "execution_count": null,
      "outputs": [
        {
          "output_type": "stream",
          "text": [
            "Mounted at /content/drive\n"
          ],
          "name": "stdout"
        }
      ]
    },
    {
      "cell_type": "code",
      "metadata": {
        "id": "DzzbcEmk8rzx",
        "colab": {
          "base_uri": "https://localhost:8080/"
        },
        "outputId": "b4f8f931-9954-4519-811d-62d4202341f6"
      },
      "source": [
        "from mpl_toolkits.mplot3d import Axes3D\r\n",
        "from sklearn.preprocessing import StandardScaler\r\n",
        "import matplotlib.pyplot as plt # plotting\r\n",
        "import numpy as np # linear algebra\r\n",
        "import os # accessing directory structure\r\n",
        "import pandas as pd # data processing, CSV file I/O (e.g. pd.read_csv)\r\n",
        "import time\r\n",
        "import timeit\r\n",
        "\r\n",
        "\r\n",
        "import matplotlib.pyplot as plt\r\n",
        "plt.style.use('dark_background')\r\n",
        "%matplotlib inline\r\n",
        "\r\n",
        "import datetime\r\n",
        "import math\r\n",
        "from collections import Counter\r\n",
        "\r\n",
        "#scipy\r\n",
        "import scipy.stats as stats\r\n",
        "from scipy import stats\r\n",
        "from scipy.stats import chi2_contingency\r\n",
        "\r\n",
        "#sklearn\r\n",
        "import sklearn\r\n",
        "from sklearn import ensemble\r\n",
        "from sklearn import preprocessing\r\n",
        "from sklearn.decomposition import PCA\r\n",
        "from sklearn.ensemble import AdaBoostClassifier, BaggingClassifier, ExtraTreesClassifier\r\n",
        "from sklearn.ensemble import RandomForestClassifier\r\n",
        "from sklearn.feature_selection import SelectFromModel\r\n",
        "from sklearn.impute import SimpleImputer\r\n",
        "from sklearn.linear_model import LogisticRegression\r\n",
        "from sklearn.metrics import accuracy_score, f1_score, precision_score, recall_score \r\n",
        "from sklearn.metrics import classification_report, confusion_matrix, roc_auc_score\r\n",
        "from sklearn.model_selection import cross_val_score, GridSearchCV, train_test_split\r\n",
        "from sklearn.preprocessing import LabelEncoder, OneHotEncoder, StandardScaler, OrdinalEncoder\r\n",
        "from sklearn.svm import SVC\r\n",
        "from sklearn.tree import DecisionTreeClassifier\r\n",
        "from sklearn.utils import resample\r\n",
        "\r\n",
        "\r\n",
        "#other learners\r\n",
        "from xgboost import XGBClassifier\r\n",
        "import lightgbm as lgb\r\n",
        "\r\n",
        "#imblearn\r\n",
        "from imblearn.ensemble import BalancedBaggingClassifier\r\n",
        "# lightgbm for classification\r\n",
        "from numpy import mean\r\n",
        "from numpy import std\r\n",
        "from sklearn.datasets import make_classification\r\n",
        "from lightgbm import LGBMClassifier\r\n",
        "from sklearn.model_selection import cross_val_score\r\n",
        "from sklearn.model_selection import RepeatedStratifiedKFold\r\n",
        "from matplotlib import pyplot\r\n",
        "\r\n",
        "#webscraping\r\n",
        "import requests\r\n",
        "from bs4 import BeautifulSoup\r\n",
        "import re\r\n",
        "import urllib\r\n",
        "from IPython.core.display import HTML\r\n",
        "\r\n",
        "#time series\r\n",
        "import statsmodels.api as sm\r\n",
        "from pylab import rcParams\r\n",
        "import itertools\r\n",
        "from statsmodels.tsa.stattools import adfuller\r\n",
        "from statsmodels.tsa.stattools import acf, pacf\r\n",
        "from statsmodels.tsa.seasonal import seasonal_decompose\r\n",
        "from statsmodels.tsa.arima_model import ARIMA\r\n",
        "import seaborn as sns\r\n",
        "\r\n",
        "\r\n",
        "#warning ignorer\r\n",
        "import warnings\r\n",
        "warnings.filterwarnings(\"ignore\")"
      ],
      "execution_count": null,
      "outputs": [
        {
          "output_type": "stream",
          "text": [
            "/usr/local/lib/python3.6/dist-packages/sklearn/externals/six.py:31: FutureWarning: The module is deprecated in version 0.21 and will be removed in version 0.23 since we've dropped support for Python 2.7. Please rely on the official version of six (https://pypi.org/project/six/).\n",
            "  \"(https://pypi.org/project/six/).\", FutureWarning)\n",
            "/usr/local/lib/python3.6/dist-packages/sklearn/utils/deprecation.py:144: FutureWarning: The sklearn.neighbors.base module is  deprecated in version 0.22 and will be removed in version 0.24. The corresponding classes / functions should instead be imported from sklearn.neighbors. Anything that cannot be imported from sklearn.neighbors is now part of the private API.\n",
            "  warnings.warn(message, FutureWarning)\n",
            "/usr/local/lib/python3.6/dist-packages/sklearn/utils/deprecation.py:144: FutureWarning: The sklearn.ensemble.bagging module is  deprecated in version 0.22 and will be removed in version 0.24. The corresponding classes / functions should instead be imported from sklearn.ensemble. Anything that cannot be imported from sklearn.ensemble is now part of the private API.\n",
            "  warnings.warn(message, FutureWarning)\n",
            "/usr/local/lib/python3.6/dist-packages/sklearn/utils/deprecation.py:144: FutureWarning: The sklearn.ensemble.base module is  deprecated in version 0.22 and will be removed in version 0.24. The corresponding classes / functions should instead be imported from sklearn.ensemble. Anything that cannot be imported from sklearn.ensemble is now part of the private API.\n",
            "  warnings.warn(message, FutureWarning)\n",
            "/usr/local/lib/python3.6/dist-packages/sklearn/utils/deprecation.py:144: FutureWarning: The sklearn.ensemble.forest module is  deprecated in version 0.22 and will be removed in version 0.24. The corresponding classes / functions should instead be imported from sklearn.ensemble. Anything that cannot be imported from sklearn.ensemble is now part of the private API.\n",
            "  warnings.warn(message, FutureWarning)\n",
            "/usr/local/lib/python3.6/dist-packages/sklearn/externals/joblib/__init__.py:15: FutureWarning: sklearn.externals.joblib is deprecated in 0.21 and will be removed in 0.23. Please import this functionality directly from joblib, which can be installed with: pip install joblib. If this warning is raised when loading pickled models, you may need to re-serialize those models with scikit-learn 0.21+.\n",
            "  warnings.warn(msg, category=FutureWarning)\n",
            "/usr/local/lib/python3.6/dist-packages/statsmodels/tools/_testing.py:19: FutureWarning: pandas.util.testing is deprecated. Use the functions in the public API at pandas.testing instead.\n",
            "  import pandas.util.testing as tm\n"
          ],
          "name": "stderr"
        }
      ]
    },
    {
      "cell_type": "markdown",
      "metadata": {
        "id": "Ya6T1L-gf33g"
      },
      "source": [
        "## **EDA and Data cleaning **"
      ]
    },
    {
      "cell_type": "code",
      "metadata": {
        "colab": {
          "base_uri": "https://localhost:8080/",
          "height": 343
        },
        "id": "90NVjoVz8ZLo",
        "outputId": "7b5f5281-0a08-49c6-8297-3b6936dc7afb"
      },
      "source": [
        "# Accident_Information.csv has 2047256 rows \r\n",
        "df1 = pd.read_csv('/content/drive/MyDrive/omdena/Accident_Information.csv', delimiter=',')\r\n",
        "df1.dataframeName = 'Accident_Information.csv'\r\n",
        "nRow, nCol = df1.shape\r\n",
        "print(f'There are {nRow} rows and {nCol} columns')\r\n",
        "df1.head()"
      ],
      "execution_count": null,
      "outputs": [
        {
          "output_type": "stream",
          "text": [
            "There are 2047256 rows and 34 columns\n"
          ],
          "name": "stdout"
        },
        {
          "output_type": "execute_result",
          "data": {
            "text/html": [
              "<div>\n",
              "<style scoped>\n",
              "    .dataframe tbody tr th:only-of-type {\n",
              "        vertical-align: middle;\n",
              "    }\n",
              "\n",
              "    .dataframe tbody tr th {\n",
              "        vertical-align: top;\n",
              "    }\n",
              "\n",
              "    .dataframe thead th {\n",
              "        text-align: right;\n",
              "    }\n",
              "</style>\n",
              "<table border=\"1\" class=\"dataframe\">\n",
              "  <thead>\n",
              "    <tr style=\"text-align: right;\">\n",
              "      <th></th>\n",
              "      <th>Accident_Index</th>\n",
              "      <th>1st_Road_Class</th>\n",
              "      <th>1st_Road_Number</th>\n",
              "      <th>2nd_Road_Class</th>\n",
              "      <th>2nd_Road_Number</th>\n",
              "      <th>Accident_Severity</th>\n",
              "      <th>Carriageway_Hazards</th>\n",
              "      <th>Date</th>\n",
              "      <th>Day_of_Week</th>\n",
              "      <th>Did_Police_Officer_Attend_Scene_of_Accident</th>\n",
              "      <th>Junction_Control</th>\n",
              "      <th>Junction_Detail</th>\n",
              "      <th>Latitude</th>\n",
              "      <th>Light_Conditions</th>\n",
              "      <th>Local_Authority_(District)</th>\n",
              "      <th>Local_Authority_(Highway)</th>\n",
              "      <th>Location_Easting_OSGR</th>\n",
              "      <th>Location_Northing_OSGR</th>\n",
              "      <th>Longitude</th>\n",
              "      <th>LSOA_of_Accident_Location</th>\n",
              "      <th>Number_of_Casualties</th>\n",
              "      <th>Number_of_Vehicles</th>\n",
              "      <th>Pedestrian_Crossing-Human_Control</th>\n",
              "      <th>Pedestrian_Crossing-Physical_Facilities</th>\n",
              "      <th>Police_Force</th>\n",
              "      <th>Road_Surface_Conditions</th>\n",
              "      <th>Road_Type</th>\n",
              "      <th>Special_Conditions_at_Site</th>\n",
              "      <th>Speed_limit</th>\n",
              "      <th>Time</th>\n",
              "      <th>Urban_or_Rural_Area</th>\n",
              "      <th>Weather_Conditions</th>\n",
              "      <th>Year</th>\n",
              "      <th>InScotland</th>\n",
              "    </tr>\n",
              "  </thead>\n",
              "  <tbody>\n",
              "    <tr>\n",
              "      <th>0</th>\n",
              "      <td>200501BS00001</td>\n",
              "      <td>A</td>\n",
              "      <td>3218.0</td>\n",
              "      <td>NaN</td>\n",
              "      <td>0.0</td>\n",
              "      <td>Serious</td>\n",
              "      <td>None</td>\n",
              "      <td>2005-01-04</td>\n",
              "      <td>Tuesday</td>\n",
              "      <td>1.0</td>\n",
              "      <td>Data missing or out of range</td>\n",
              "      <td>Not at junction or within 20 metres</td>\n",
              "      <td>51.489096</td>\n",
              "      <td>Daylight</td>\n",
              "      <td>Kensington and Chelsea</td>\n",
              "      <td>Kensington and Chelsea</td>\n",
              "      <td>525680.0</td>\n",
              "      <td>178240.0</td>\n",
              "      <td>-0.191170</td>\n",
              "      <td>E01002849</td>\n",
              "      <td>1</td>\n",
              "      <td>1</td>\n",
              "      <td>0.0</td>\n",
              "      <td>1.0</td>\n",
              "      <td>Metropolitan Police</td>\n",
              "      <td>Wet or damp</td>\n",
              "      <td>Single carriageway</td>\n",
              "      <td>None</td>\n",
              "      <td>30.0</td>\n",
              "      <td>17:42</td>\n",
              "      <td>Urban</td>\n",
              "      <td>Raining no high winds</td>\n",
              "      <td>2005</td>\n",
              "      <td>No</td>\n",
              "    </tr>\n",
              "    <tr>\n",
              "      <th>1</th>\n",
              "      <td>200501BS00002</td>\n",
              "      <td>B</td>\n",
              "      <td>450.0</td>\n",
              "      <td>C</td>\n",
              "      <td>0.0</td>\n",
              "      <td>Slight</td>\n",
              "      <td>None</td>\n",
              "      <td>2005-01-05</td>\n",
              "      <td>Wednesday</td>\n",
              "      <td>1.0</td>\n",
              "      <td>Auto traffic signal</td>\n",
              "      <td>Crossroads</td>\n",
              "      <td>51.520075</td>\n",
              "      <td>Darkness - lights lit</td>\n",
              "      <td>Kensington and Chelsea</td>\n",
              "      <td>Kensington and Chelsea</td>\n",
              "      <td>524170.0</td>\n",
              "      <td>181650.0</td>\n",
              "      <td>-0.211708</td>\n",
              "      <td>E01002909</td>\n",
              "      <td>1</td>\n",
              "      <td>1</td>\n",
              "      <td>0.0</td>\n",
              "      <td>5.0</td>\n",
              "      <td>Metropolitan Police</td>\n",
              "      <td>Dry</td>\n",
              "      <td>Dual carriageway</td>\n",
              "      <td>None</td>\n",
              "      <td>30.0</td>\n",
              "      <td>17:36</td>\n",
              "      <td>Urban</td>\n",
              "      <td>Fine no high winds</td>\n",
              "      <td>2005</td>\n",
              "      <td>No</td>\n",
              "    </tr>\n",
              "    <tr>\n",
              "      <th>2</th>\n",
              "      <td>200501BS00003</td>\n",
              "      <td>C</td>\n",
              "      <td>0.0</td>\n",
              "      <td>NaN</td>\n",
              "      <td>0.0</td>\n",
              "      <td>Slight</td>\n",
              "      <td>None</td>\n",
              "      <td>2005-01-06</td>\n",
              "      <td>Thursday</td>\n",
              "      <td>1.0</td>\n",
              "      <td>Data missing or out of range</td>\n",
              "      <td>Not at junction or within 20 metres</td>\n",
              "      <td>51.525301</td>\n",
              "      <td>Darkness - lights lit</td>\n",
              "      <td>Kensington and Chelsea</td>\n",
              "      <td>Kensington and Chelsea</td>\n",
              "      <td>524520.0</td>\n",
              "      <td>182240.0</td>\n",
              "      <td>-0.206458</td>\n",
              "      <td>E01002857</td>\n",
              "      <td>1</td>\n",
              "      <td>2</td>\n",
              "      <td>0.0</td>\n",
              "      <td>0.0</td>\n",
              "      <td>Metropolitan Police</td>\n",
              "      <td>Dry</td>\n",
              "      <td>Single carriageway</td>\n",
              "      <td>None</td>\n",
              "      <td>30.0</td>\n",
              "      <td>00:15</td>\n",
              "      <td>Urban</td>\n",
              "      <td>Fine no high winds</td>\n",
              "      <td>2005</td>\n",
              "      <td>No</td>\n",
              "    </tr>\n",
              "    <tr>\n",
              "      <th>3</th>\n",
              "      <td>200501BS00004</td>\n",
              "      <td>A</td>\n",
              "      <td>3220.0</td>\n",
              "      <td>NaN</td>\n",
              "      <td>0.0</td>\n",
              "      <td>Slight</td>\n",
              "      <td>None</td>\n",
              "      <td>2005-01-07</td>\n",
              "      <td>Friday</td>\n",
              "      <td>1.0</td>\n",
              "      <td>Data missing or out of range</td>\n",
              "      <td>Not at junction or within 20 metres</td>\n",
              "      <td>51.482442</td>\n",
              "      <td>Daylight</td>\n",
              "      <td>Kensington and Chelsea</td>\n",
              "      <td>Kensington and Chelsea</td>\n",
              "      <td>526900.0</td>\n",
              "      <td>177530.0</td>\n",
              "      <td>-0.173862</td>\n",
              "      <td>E01002840</td>\n",
              "      <td>1</td>\n",
              "      <td>1</td>\n",
              "      <td>0.0</td>\n",
              "      <td>0.0</td>\n",
              "      <td>Metropolitan Police</td>\n",
              "      <td>Dry</td>\n",
              "      <td>Single carriageway</td>\n",
              "      <td>None</td>\n",
              "      <td>30.0</td>\n",
              "      <td>10:35</td>\n",
              "      <td>Urban</td>\n",
              "      <td>Fine no high winds</td>\n",
              "      <td>2005</td>\n",
              "      <td>No</td>\n",
              "    </tr>\n",
              "    <tr>\n",
              "      <th>4</th>\n",
              "      <td>200501BS00005</td>\n",
              "      <td>Unclassified</td>\n",
              "      <td>0.0</td>\n",
              "      <td>NaN</td>\n",
              "      <td>0.0</td>\n",
              "      <td>Slight</td>\n",
              "      <td>None</td>\n",
              "      <td>2005-01-10</td>\n",
              "      <td>Monday</td>\n",
              "      <td>1.0</td>\n",
              "      <td>Data missing or out of range</td>\n",
              "      <td>Not at junction or within 20 metres</td>\n",
              "      <td>51.495752</td>\n",
              "      <td>Darkness - lighting unknown</td>\n",
              "      <td>Kensington and Chelsea</td>\n",
              "      <td>Kensington and Chelsea</td>\n",
              "      <td>528060.0</td>\n",
              "      <td>179040.0</td>\n",
              "      <td>-0.156618</td>\n",
              "      <td>E01002863</td>\n",
              "      <td>1</td>\n",
              "      <td>1</td>\n",
              "      <td>0.0</td>\n",
              "      <td>0.0</td>\n",
              "      <td>Metropolitan Police</td>\n",
              "      <td>Wet or damp</td>\n",
              "      <td>Single carriageway</td>\n",
              "      <td>None</td>\n",
              "      <td>30.0</td>\n",
              "      <td>21:13</td>\n",
              "      <td>Urban</td>\n",
              "      <td>Fine no high winds</td>\n",
              "      <td>2005</td>\n",
              "      <td>No</td>\n",
              "    </tr>\n",
              "  </tbody>\n",
              "</table>\n",
              "</div>"
            ],
            "text/plain": [
              "  Accident_Index 1st_Road_Class  ...  Year InScotland\n",
              "0  200501BS00001              A  ...  2005         No\n",
              "1  200501BS00002              B  ...  2005         No\n",
              "2  200501BS00003              C  ...  2005         No\n",
              "3  200501BS00004              A  ...  2005         No\n",
              "4  200501BS00005   Unclassified  ...  2005         No\n",
              "\n",
              "[5 rows x 34 columns]"
            ]
          },
          "metadata": {
            "tags": []
          },
          "execution_count": 3
        }
      ]
    },
    {
      "cell_type": "code",
      "metadata": {
        "colab": {
          "base_uri": "https://localhost:8080/",
          "height": 371
        },
        "id": "RlzBcdp7Jop-",
        "outputId": "33302329-e458-480c-9b8f-523ec063a2cb"
      },
      "source": [
        "import seaborn as sn\r\n",
        "\r\n",
        "df = pd.DataFrame(df1,columns=['Number_of_Casualties',\r\n",
        "       'Number_of_Vehicles', 'Speed_limit', 'Time', 'Weather_Conditions',\r\n",
        "       'Year'])\r\n",
        "\r\n",
        "corrMatrix = df.corr()\r\n",
        "sn.heatmap(corrMatrix, annot=True)\r\n",
        "plt.show()"
      ],
      "execution_count": null,
      "outputs": [
        {
          "output_type": "display_data",
          "data": {
            "image/png": "[encoded data removed]",
            "text/plain": [
              "<Figure size 432x288 with 2 Axes>"
            ]
          },
          "metadata": {
            "tags": [],
            "needs_background": "dark"
          }
        }
      ]
    },
    {
      "cell_type": "code",
      "metadata": {
        "colab": {
          "base_uri": "https://localhost:8080/",
          "height": 394
        },
        "id": "X4NCxJXLgwFH",
        "outputId": "31030b6d-c1cd-42fb-92a7-3d06f0f6c4b9"
      },
      "source": [
        "df2= pd.read_csv('/content/drive/MyDrive/omdena/Vehicle_Information.csv', encoding='ISO-8859-1')\r\n",
        "print('Records:', df2.shape[0], '\\nColumns:', df2.shape[1])\r\n",
        "df2.head()"
      ],
      "execution_count": null,
      "outputs": [
        {
          "output_type": "stream",
          "text": [
            "Records: 2177205 \n",
            "Columns: 24\n"
          ],
          "name": "stdout"
        },
        {
          "output_type": "execute_result",
          "data": {
            "text/html": [
              "<div>\n",
              "<style scoped>\n",
              "    .dataframe tbody tr th:only-of-type {\n",
              "        vertical-align: middle;\n",
              "    }\n",
              "\n",
              "    .dataframe tbody tr th {\n",
              "        vertical-align: top;\n",
              "    }\n",
              "\n",
              "    .dataframe thead th {\n",
              "        text-align: right;\n",
              "    }\n",
              "</style>\n",
              "<table border=\"1\" class=\"dataframe\">\n",
              "  <thead>\n",
              "    <tr style=\"text-align: right;\">\n",
              "      <th></th>\n",
              "      <th>Accident_Index</th>\n",
              "      <th>Age_Band_of_Driver</th>\n",
              "      <th>Age_of_Vehicle</th>\n",
              "      <th>Driver_Home_Area_Type</th>\n",
              "      <th>Driver_IMD_Decile</th>\n",
              "      <th>Engine_Capacity_.CC.</th>\n",
              "      <th>Hit_Object_in_Carriageway</th>\n",
              "      <th>Hit_Object_off_Carriageway</th>\n",
              "      <th>Journey_Purpose_of_Driver</th>\n",
              "      <th>Junction_Location</th>\n",
              "      <th>make</th>\n",
              "      <th>model</th>\n",
              "      <th>Propulsion_Code</th>\n",
              "      <th>Sex_of_Driver</th>\n",
              "      <th>Skidding_and_Overturning</th>\n",
              "      <th>Towing_and_Articulation</th>\n",
              "      <th>Vehicle_Leaving_Carriageway</th>\n",
              "      <th>Vehicle_Location.Restricted_Lane</th>\n",
              "      <th>Vehicle_Manoeuvre</th>\n",
              "      <th>Vehicle_Reference</th>\n",
              "      <th>Vehicle_Type</th>\n",
              "      <th>Was_Vehicle_Left_Hand_Drive</th>\n",
              "      <th>X1st_Point_of_Impact</th>\n",
              "      <th>Year</th>\n",
              "    </tr>\n",
              "  </thead>\n",
              "  <tbody>\n",
              "    <tr>\n",
              "      <th>0</th>\n",
              "      <td>200401BS00001</td>\n",
              "      <td>26 - 35</td>\n",
              "      <td>3.0</td>\n",
              "      <td>Urban area</td>\n",
              "      <td>4.0</td>\n",
              "      <td>1588.0</td>\n",
              "      <td>None</td>\n",
              "      <td>None</td>\n",
              "      <td>Data missing or out of range</td>\n",
              "      <td>Data missing or out of range</td>\n",
              "      <td>ROVER</td>\n",
              "      <td>45 CLASSIC 16V</td>\n",
              "      <td>Petrol</td>\n",
              "      <td>Male</td>\n",
              "      <td>None</td>\n",
              "      <td>No tow/articulation</td>\n",
              "      <td>Did not leave carriageway</td>\n",
              "      <td>0.0</td>\n",
              "      <td>Going ahead other</td>\n",
              "      <td>2</td>\n",
              "      <td>109</td>\n",
              "      <td>Data missing or out of range</td>\n",
              "      <td>Front</td>\n",
              "      <td>2004</td>\n",
              "    </tr>\n",
              "    <tr>\n",
              "      <th>1</th>\n",
              "      <td>200401BS00002</td>\n",
              "      <td>26 - 35</td>\n",
              "      <td>NaN</td>\n",
              "      <td>Urban area</td>\n",
              "      <td>3.0</td>\n",
              "      <td>NaN</td>\n",
              "      <td>None</td>\n",
              "      <td>None</td>\n",
              "      <td>Data missing or out of range</td>\n",
              "      <td>Data missing or out of range</td>\n",
              "      <td>BMW</td>\n",
              "      <td>C1</td>\n",
              "      <td>NaN</td>\n",
              "      <td>Male</td>\n",
              "      <td>None</td>\n",
              "      <td>No tow/articulation</td>\n",
              "      <td>Did not leave carriageway</td>\n",
              "      <td>0.0</td>\n",
              "      <td>Going ahead other</td>\n",
              "      <td>1</td>\n",
              "      <td>109</td>\n",
              "      <td>Data missing or out of range</td>\n",
              "      <td>Front</td>\n",
              "      <td>2004</td>\n",
              "    </tr>\n",
              "    <tr>\n",
              "      <th>2</th>\n",
              "      <td>200401BS00003</td>\n",
              "      <td>26 - 35</td>\n",
              "      <td>4.0</td>\n",
              "      <td>Data missing or out of range</td>\n",
              "      <td>NaN</td>\n",
              "      <td>998.0</td>\n",
              "      <td>None</td>\n",
              "      <td>None</td>\n",
              "      <td>Data missing or out of range</td>\n",
              "      <td>Data missing or out of range</td>\n",
              "      <td>NISSAN</td>\n",
              "      <td>MICRA CELEBRATION 16V</td>\n",
              "      <td>Petrol</td>\n",
              "      <td>Male</td>\n",
              "      <td>None</td>\n",
              "      <td>No tow/articulation</td>\n",
              "      <td>Did not leave carriageway</td>\n",
              "      <td>0.0</td>\n",
              "      <td>Turning right</td>\n",
              "      <td>1</td>\n",
              "      <td>109</td>\n",
              "      <td>Data missing or out of range</td>\n",
              "      <td>Front</td>\n",
              "      <td>2004</td>\n",
              "    </tr>\n",
              "    <tr>\n",
              "      <th>3</th>\n",
              "      <td>200401BS00003</td>\n",
              "      <td>66 - 75</td>\n",
              "      <td>NaN</td>\n",
              "      <td>Data missing or out of range</td>\n",
              "      <td>NaN</td>\n",
              "      <td>NaN</td>\n",
              "      <td>None</td>\n",
              "      <td>None</td>\n",
              "      <td>Data missing or out of range</td>\n",
              "      <td>Data missing or out of range</td>\n",
              "      <td>LONDON TAXIS INT</td>\n",
              "      <td>TXII GOLD AUTO</td>\n",
              "      <td>NaN</td>\n",
              "      <td>Male</td>\n",
              "      <td>None</td>\n",
              "      <td>No tow/articulation</td>\n",
              "      <td>Did not leave carriageway</td>\n",
              "      <td>0.0</td>\n",
              "      <td>Going ahead other</td>\n",
              "      <td>2</td>\n",
              "      <td>109</td>\n",
              "      <td>Data missing or out of range</td>\n",
              "      <td>Front</td>\n",
              "      <td>2004</td>\n",
              "    </tr>\n",
              "    <tr>\n",
              "      <th>4</th>\n",
              "      <td>200401BS00004</td>\n",
              "      <td>26 - 35</td>\n",
              "      <td>1.0</td>\n",
              "      <td>Urban area</td>\n",
              "      <td>4.0</td>\n",
              "      <td>124.0</td>\n",
              "      <td>None</td>\n",
              "      <td>None</td>\n",
              "      <td>Data missing or out of range</td>\n",
              "      <td>Data missing or out of range</td>\n",
              "      <td>PIAGGIO</td>\n",
              "      <td>VESPA ET4</td>\n",
              "      <td>Petrol</td>\n",
              "      <td>Male</td>\n",
              "      <td>None</td>\n",
              "      <td>No tow/articulation</td>\n",
              "      <td>Did not leave carriageway</td>\n",
              "      <td>0.0</td>\n",
              "      <td>Going ahead other</td>\n",
              "      <td>1</td>\n",
              "      <td>Motorcycle 125cc and under</td>\n",
              "      <td>Data missing or out of range</td>\n",
              "      <td>Front</td>\n",
              "      <td>2004</td>\n",
              "    </tr>\n",
              "  </tbody>\n",
              "</table>\n",
              "</div>"
            ],
            "text/plain": [
              "  Accident_Index Age_Band_of_Driver  ...  X1st_Point_of_Impact  Year\n",
              "0  200401BS00001            26 - 35  ...                 Front  2004\n",
              "1  200401BS00002            26 - 35  ...                 Front  2004\n",
              "2  200401BS00003            26 - 35  ...                 Front  2004\n",
              "3  200401BS00003            66 - 75  ...                 Front  2004\n",
              "4  200401BS00004            26 - 35  ...                 Front  2004\n",
              "\n",
              "[5 rows x 24 columns]"
            ]
          },
          "metadata": {
            "tags": []
          },
          "execution_count": 5
        }
      ]
    },
    {
      "cell_type": "code",
      "metadata": {
        "id": "ky4VOs7ZZN8l"
      },
      "source": [
        "#merge dataframes\r\n",
        "df = pd.merge(df1,df2)"
      ],
      "execution_count": null,
      "outputs": []
    },
    {
      "cell_type": "code",
      "metadata": {
        "id": "V_uK-dUaMaG-"
      },
      "source": [
        "df = df.drop(['Driver_Home_Area_Type', 'Driver_IMD_Decile','Hit_Object_in_Carriageway', 'Hit_Object_off_Carriageway',\r\n",
        "       'Journey_Purpose_of_Driver', 'Junction_Location', 'make', 'model',\r\n",
        "       'Propulsion_Code', 'Sex_of_Driver', 'Skidding_and_Overturning',\r\n",
        "       'Towing_and_Articulation', 'Vehicle_Leaving_Carriageway',\r\n",
        "       'Vehicle_Location.Restricted_Lane', 'Vehicle_Manoeuvre',\r\n",
        "       'Vehicle_Reference', 'Vehicle_Type', 'Was_Vehicle_Left_Hand_Drive',\r\n",
        "       'X1st_Point_of_Impact','1st_Road_Class', '1st_Road_Number', '2nd_Road_Class',\r\n",
        "       '2nd_Road_Number','Carriageway_Hazards', 'Did_Police_Officer_Attend_Scene_of_Accident',\r\n",
        "       'Junction_Control', 'Junction_Detail', 'Latitude',\r\n",
        "       'Local_Authority_(District)', 'Local_Authority_(Highway)',\r\n",
        "       'Location_Easting_OSGR', 'Location_Northing_OSGR', 'Longitude',\r\n",
        "       'LSOA_of_Accident_Location','Pedestrian_Crossing-Human_Control',\r\n",
        "       'Pedestrian_Crossing-Physical_Facilities', 'Police_Force',\r\n",
        "       'Road_Type', 'Special_Conditions_at_Site', 'Urban_or_Rural_Area', 'InScotland'\r\n",
        "            ], axis=1)"
      ],
      "execution_count": null,
      "outputs": []
    },
    {
      "cell_type": "code",
      "metadata": {
        "colab": {
          "base_uri": "https://localhost:8080/"
        },
        "id": "jXQ1cruOinQ3",
        "outputId": "71935449-77fe-45ac-b079-f1b1272f36ed"
      },
      "source": [
        "#check columns\r\n",
        "print(\"Names of Combined Columns:\\n\",df.columns, \"\\n\")\r\n",
        "print(\"\\nShape:\\n\",df.shape)"
      ],
      "execution_count": null,
      "outputs": [
        {
          "output_type": "stream",
          "text": [
            "Names of Combined Columns:\n",
            " Index(['Accident_Index', 'Accident_Severity', 'Date', 'Day_of_Week',\n",
            "       'Light_Conditions', 'Number_of_Casualties', 'Number_of_Vehicles',\n",
            "       'Road_Surface_Conditions', 'Speed_limit', 'Time', 'Weather_Conditions',\n",
            "       'Year', 'Age_Band_of_Driver', 'Age_of_Vehicle', 'Engine_Capacity_.CC.'],\n",
            "      dtype='object') \n",
            "\n",
            "\n",
            "Shape:\n",
            " (2058408, 15)\n"
          ],
          "name": "stdout"
        }
      ]
    },
    {
      "cell_type": "code",
      "metadata": {
        "colab": {
          "base_uri": "https://localhost:8080/",
          "height": 427
        },
        "id": "T7CyV6NbiuHy",
        "outputId": "3d5ea0de-a7b0-494f-ff53-442754e8429a"
      },
      "source": [
        "df.describe(include ='all')\r\n"
      ],
      "execution_count": null,
      "outputs": [
        {
          "output_type": "execute_result",
          "data": {
            "text/html": [
              "<div>\n",
              "<style scoped>\n",
              "    .dataframe tbody tr th:only-of-type {\n",
              "        vertical-align: middle;\n",
              "    }\n",
              "\n",
              "    .dataframe tbody tr th {\n",
              "        vertical-align: top;\n",
              "    }\n",
              "\n",
              "    .dataframe thead th {\n",
              "        text-align: right;\n",
              "    }\n",
              "</style>\n",
              "<table border=\"1\" class=\"dataframe\">\n",
              "  <thead>\n",
              "    <tr style=\"text-align: right;\">\n",
              "      <th></th>\n",
              "      <th>Accident_Index</th>\n",
              "      <th>Accident_Severity</th>\n",
              "      <th>Date</th>\n",
              "      <th>Day_of_Week</th>\n",
              "      <th>Light_Conditions</th>\n",
              "      <th>Number_of_Casualties</th>\n",
              "      <th>Number_of_Vehicles</th>\n",
              "      <th>Road_Surface_Conditions</th>\n",
              "      <th>Speed_limit</th>\n",
              "      <th>Time</th>\n",
              "      <th>Weather_Conditions</th>\n",
              "      <th>Year</th>\n",
              "      <th>Age_Band_of_Driver</th>\n",
              "      <th>Age_of_Vehicle</th>\n",
              "      <th>Engine_Capacity_.CC.</th>\n",
              "    </tr>\n",
              "  </thead>\n",
              "  <tbody>\n",
              "    <tr>\n",
              "      <th>count</th>\n",
              "      <td>2058408</td>\n",
              "      <td>2058408</td>\n",
              "      <td>2058408</td>\n",
              "      <td>2058408</td>\n",
              "      <td>2058408</td>\n",
              "      <td>2.058408e+06</td>\n",
              "      <td>2.058408e+06</td>\n",
              "      <td>2058408</td>\n",
              "      <td>2.058343e+06</td>\n",
              "      <td>2058262</td>\n",
              "      <td>2058408</td>\n",
              "      <td>2.058408e+06</td>\n",
              "      <td>2058408</td>\n",
              "      <td>1.720446e+06</td>\n",
              "      <td>1.808091e+06</td>\n",
              "    </tr>\n",
              "    <tr>\n",
              "      <th>unique</th>\n",
              "      <td>1389724</td>\n",
              "      <td>3</td>\n",
              "      <td>4383</td>\n",
              "      <td>7</td>\n",
              "      <td>6</td>\n",
              "      <td>NaN</td>\n",
              "      <td>NaN</td>\n",
              "      <td>6</td>\n",
              "      <td>NaN</td>\n",
              "      <td>1439</td>\n",
              "      <td>10</td>\n",
              "      <td>NaN</td>\n",
              "      <td>12</td>\n",
              "      <td>NaN</td>\n",
              "      <td>NaN</td>\n",
              "    </tr>\n",
              "    <tr>\n",
              "      <th>top</th>\n",
              "      <td>2013460234852</td>\n",
              "      <td>Slight</td>\n",
              "      <td>2016-11-25</td>\n",
              "      <td>Friday</td>\n",
              "      <td>Daylight</td>\n",
              "      <td>NaN</td>\n",
              "      <td>NaN</td>\n",
              "      <td>Dry</td>\n",
              "      <td>NaN</td>\n",
              "      <td>17:00</td>\n",
              "      <td>Fine no high winds</td>\n",
              "      <td>NaN</td>\n",
              "      <td>26 - 35</td>\n",
              "      <td>NaN</td>\n",
              "      <td>NaN</td>\n",
              "    </tr>\n",
              "    <tr>\n",
              "      <th>freq</th>\n",
              "      <td>53</td>\n",
              "      <td>1765650</td>\n",
              "      <td>1052</td>\n",
              "      <td>341797</td>\n",
              "      <td>1544491</td>\n",
              "      <td>NaN</td>\n",
              "      <td>NaN</td>\n",
              "      <td>1435328</td>\n",
              "      <td>NaN</td>\n",
              "      <td>19468</td>\n",
              "      <td>1661250</td>\n",
              "      <td>NaN</td>\n",
              "      <td>424291</td>\n",
              "      <td>NaN</td>\n",
              "      <td>NaN</td>\n",
              "    </tr>\n",
              "    <tr>\n",
              "      <th>mean</th>\n",
              "      <td>NaN</td>\n",
              "      <td>NaN</td>\n",
              "      <td>NaN</td>\n",
              "      <td>NaN</td>\n",
              "      <td>NaN</td>\n",
              "      <td>1.449605e+00</td>\n",
              "      <td>2.124032e+00</td>\n",
              "      <td>NaN</td>\n",
              "      <td>3.975699e+01</td>\n",
              "      <td>NaN</td>\n",
              "      <td>NaN</td>\n",
              "      <td>2.011334e+03</td>\n",
              "      <td>NaN</td>\n",
              "      <td>7.143248e+00</td>\n",
              "      <td>2.028291e+03</td>\n",
              "    </tr>\n",
              "    <tr>\n",
              "      <th>std</th>\n",
              "      <td>NaN</td>\n",
              "      <td>NaN</td>\n",
              "      <td>NaN</td>\n",
              "      <td>NaN</td>\n",
              "      <td>NaN</td>\n",
              "      <td>1.033484e+00</td>\n",
              "      <td>9.641580e-01</td>\n",
              "      <td>NaN</td>\n",
              "      <td>1.460916e+01</td>\n",
              "      <td>NaN</td>\n",
              "      <td>NaN</td>\n",
              "      <td>3.391307e+00</td>\n",
              "      <td>NaN</td>\n",
              "      <td>4.728746e+00</td>\n",
              "      <td>1.914150e+03</td>\n",
              "    </tr>\n",
              "    <tr>\n",
              "      <th>min</th>\n",
              "      <td>NaN</td>\n",
              "      <td>NaN</td>\n",
              "      <td>NaN</td>\n",
              "      <td>NaN</td>\n",
              "      <td>NaN</td>\n",
              "      <td>1.000000e+00</td>\n",
              "      <td>1.000000e+00</td>\n",
              "      <td>NaN</td>\n",
              "      <td>0.000000e+00</td>\n",
              "      <td>NaN</td>\n",
              "      <td>NaN</td>\n",
              "      <td>2.005000e+03</td>\n",
              "      <td>NaN</td>\n",
              "      <td>1.000000e+00</td>\n",
              "      <td>1.000000e+00</td>\n",
              "    </tr>\n",
              "    <tr>\n",
              "      <th>25%</th>\n",
              "      <td>NaN</td>\n",
              "      <td>NaN</td>\n",
              "      <td>NaN</td>\n",
              "      <td>NaN</td>\n",
              "      <td>NaN</td>\n",
              "      <td>1.000000e+00</td>\n",
              "      <td>2.000000e+00</td>\n",
              "      <td>NaN</td>\n",
              "      <td>3.000000e+01</td>\n",
              "      <td>NaN</td>\n",
              "      <td>NaN</td>\n",
              "      <td>2.009000e+03</td>\n",
              "      <td>NaN</td>\n",
              "      <td>3.000000e+00</td>\n",
              "      <td>1.299000e+03</td>\n",
              "    </tr>\n",
              "    <tr>\n",
              "      <th>50%</th>\n",
              "      <td>NaN</td>\n",
              "      <td>NaN</td>\n",
              "      <td>NaN</td>\n",
              "      <td>NaN</td>\n",
              "      <td>NaN</td>\n",
              "      <td>1.000000e+00</td>\n",
              "      <td>2.000000e+00</td>\n",
              "      <td>NaN</td>\n",
              "      <td>3.000000e+01</td>\n",
              "      <td>NaN</td>\n",
              "      <td>NaN</td>\n",
              "      <td>2.012000e+03</td>\n",
              "      <td>NaN</td>\n",
              "      <td>7.000000e+00</td>\n",
              "      <td>1.598000e+03</td>\n",
              "    </tr>\n",
              "    <tr>\n",
              "      <th>75%</th>\n",
              "      <td>NaN</td>\n",
              "      <td>NaN</td>\n",
              "      <td>NaN</td>\n",
              "      <td>NaN</td>\n",
              "      <td>NaN</td>\n",
              "      <td>2.000000e+00</td>\n",
              "      <td>2.000000e+00</td>\n",
              "      <td>NaN</td>\n",
              "      <td>5.000000e+01</td>\n",
              "      <td>NaN</td>\n",
              "      <td>NaN</td>\n",
              "      <td>2.014000e+03</td>\n",
              "      <td>NaN</td>\n",
              "      <td>1.000000e+01</td>\n",
              "      <td>1.997000e+03</td>\n",
              "    </tr>\n",
              "    <tr>\n",
              "      <th>max</th>\n",
              "      <td>NaN</td>\n",
              "      <td>NaN</td>\n",
              "      <td>NaN</td>\n",
              "      <td>NaN</td>\n",
              "      <td>NaN</td>\n",
              "      <td>9.300000e+01</td>\n",
              "      <td>6.700000e+01</td>\n",
              "      <td>NaN</td>\n",
              "      <td>7.000000e+01</td>\n",
              "      <td>NaN</td>\n",
              "      <td>NaN</td>\n",
              "      <td>2.016000e+03</td>\n",
              "      <td>NaN</td>\n",
              "      <td>1.110000e+02</td>\n",
              "      <td>9.600000e+04</td>\n",
              "    </tr>\n",
              "  </tbody>\n",
              "</table>\n",
              "</div>"
            ],
            "text/plain": [
              "       Accident_Index Accident_Severity  ... Age_of_Vehicle Engine_Capacity_.CC.\n",
              "count         2058408           2058408  ...   1.720446e+06         1.808091e+06\n",
              "unique        1389724                 3  ...            NaN                  NaN\n",
              "top     2013460234852            Slight  ...            NaN                  NaN\n",
              "freq               53           1765650  ...            NaN                  NaN\n",
              "mean              NaN               NaN  ...   7.143248e+00         2.028291e+03\n",
              "std               NaN               NaN  ...   4.728746e+00         1.914150e+03\n",
              "min               NaN               NaN  ...   1.000000e+00         1.000000e+00\n",
              "25%               NaN               NaN  ...   3.000000e+00         1.299000e+03\n",
              "50%               NaN               NaN  ...   7.000000e+00         1.598000e+03\n",
              "75%               NaN               NaN  ...   1.000000e+01         1.997000e+03\n",
              "max               NaN               NaN  ...   1.110000e+02         9.600000e+04\n",
              "\n",
              "[11 rows x 15 columns]"
            ]
          },
          "metadata": {
            "tags": []
          },
          "execution_count": 9
        }
      ]
    },
    {
      "cell_type": "code",
      "metadata": {
        "colab": {
          "base_uri": "https://localhost:8080/"
        },
        "id": "1sxg41WSpKDr",
        "outputId": "1f015667-d288-4e91-9abe-0f7643d6b4be"
      },
      "source": [
        "# number of missing values in the data set\r\n",
        "df.isnull().sum().sort_values(ascending=False)/df.shape[0]*100\r\n"
      ],
      "execution_count": null,
      "outputs": [
        {
          "output_type": "execute_result",
          "data": {
            "text/plain": [
              "Age_of_Vehicle             16.418611\n",
              "Engine_Capacity_.CC.       12.160709\n",
              "Time                        0.007093\n",
              "Speed_limit                 0.003158\n",
              "Age_Band_of_Driver          0.000000\n",
              "Year                        0.000000\n",
              "Weather_Conditions          0.000000\n",
              "Road_Surface_Conditions     0.000000\n",
              "Number_of_Vehicles          0.000000\n",
              "Number_of_Casualties        0.000000\n",
              "Light_Conditions            0.000000\n",
              "Day_of_Week                 0.000000\n",
              "Date                        0.000000\n",
              "Accident_Severity           0.000000\n",
              "Accident_Index              0.000000\n",
              "dtype: float64"
            ]
          },
          "metadata": {
            "tags": []
          },
          "execution_count": 10
        }
      ]
    },
    {
      "cell_type": "code",
      "metadata": {
        "id": "gn_CENZbe8pl"
      },
      "source": [
        "#Delete all missing values\r\n",
        "df.dropna(inplace=True)\r\n"
      ],
      "execution_count": null,
      "outputs": []
    },
    {
      "cell_type": "code",
      "metadata": {
        "colab": {
          "base_uri": "https://localhost:8080/"
        },
        "id": "WfnbOVwphC4F",
        "outputId": "3b2d348c-b280-4522-b479-3e16f64f3514"
      },
      "source": [
        "# number of missing values in the data set\r\n",
        "df.isnull().sum().sort_values(ascending=False)/df.shape[0]*100\r\n"
      ],
      "execution_count": null,
      "outputs": [
        {
          "output_type": "execute_result",
          "data": {
            "text/plain": [
              "Engine_Capacity_.CC.       0.0\n",
              "Age_of_Vehicle             0.0\n",
              "Age_Band_of_Driver         0.0\n",
              "Year                       0.0\n",
              "Weather_Conditions         0.0\n",
              "Time                       0.0\n",
              "Speed_limit                0.0\n",
              "Road_Surface_Conditions    0.0\n",
              "Number_of_Vehicles         0.0\n",
              "Number_of_Casualties       0.0\n",
              "Light_Conditions           0.0\n",
              "Day_of_Week                0.0\n",
              "Date                       0.0\n",
              "Accident_Severity          0.0\n",
              "Accident_Index             0.0\n",
              "dtype: float64"
            ]
          },
          "metadata": {
            "tags": []
          },
          "execution_count": 12
        }
      ]
    },
    {
      "cell_type": "markdown",
      "metadata": {
        "id": "x7Wq2FukoyLD"
      },
      "source": [
        "Outliers Handle "
      ]
    },
    {
      "cell_type": "code",
      "metadata": {
        "colab": {
          "base_uri": "https://localhost:8080/"
        },
        "id": "XiOQ5GgAcxop",
        "outputId": "73613965-f674-4c2d-8044-716f6699824f"
      },
      "source": [
        "#engine_capacity_cc\r\n",
        "df['Engine_Capacity_.CC.'].describe()"
      ],
      "execution_count": null,
      "outputs": [
        {
          "output_type": "execute_result",
          "data": {
            "text/plain": [
              "count    1.704138e+06\n",
              "mean     2.034436e+03\n",
              "std      1.909882e+03\n",
              "min      1.000000e+00\n",
              "25%      1.299000e+03\n",
              "50%      1.598000e+03\n",
              "75%      1.997000e+03\n",
              "max      9.600000e+04\n",
              "Name: Engine_Capacity_.CC., dtype: float64"
            ]
          },
          "metadata": {
            "tags": []
          },
          "execution_count": 13
        }
      ]
    },
    {
      "cell_type": "code",
      "metadata": {
        "colab": {
          "base_uri": "https://localhost:8080/"
        },
        "id": "QrLK0l8MLZfY",
        "outputId": "aedc47ec-81bd-4798-ab0a-803fb68b3a5e"
      },
      "source": [
        "#first I'm going to handle both ends of outliers.\r\n",
        "#(determine the min and max cuttoffs for detecting the outlier)\r\n",
        "q75, q25 = np.percentile(df['Engine_Capacity_.CC.'].dropna(), [75 ,25])\r\n",
        "iqr = q75 - q25\r\n",
        " \r\n",
        "ecmin = q25 - (iqr*1.5)\r\n",
        "ecmax = q75 + (iqr*1.5)\r\n",
        "\r\n",
        "print(ecmax)\r\n",
        "print(ecmin)\r\n",
        "\r\n",
        "df = df[df['Engine_Capacity_.CC.']<=ecmax]\r\n",
        "df = df[df['Engine_Capacity_.CC.']>=ecmin]\r\n",
        "\r\n",
        "\r\n"
      ],
      "execution_count": null,
      "outputs": [
        {
          "output_type": "stream",
          "text": [
            "3044.0\n",
            "252.0\n"
          ],
          "name": "stdout"
        }
      ]
    },
    {
      "cell_type": "code",
      "metadata": {
        "colab": {
          "base_uri": "https://localhost:8080/",
          "height": 265
        },
        "id": "5DkUY9DEp4pW",
        "outputId": "59cbaada-727b-4126-d25b-f02e4d35ad69"
      },
      "source": [
        "df['Engine_Capacity_.CC.'].hist(bins=20)\r\n",
        "plt.style.use('dark_background')\r\n"
      ],
      "execution_count": null,
      "outputs": [
        {
          "output_type": "display_data",
          "data": {
            "image/png": "[encoded data removed]",
            "text/plain": [
              "<Figure size 432x288 with 1 Axes>"
            ]
          },
          "metadata": {
            "tags": [],
            "needs_background": "dark"
          }
        }
      ]
    },
    {
      "cell_type": "code",
      "metadata": {
        "colab": {
          "base_uri": "https://localhost:8080/"
        },
        "id": "-derwooboNei",
        "outputId": "b2da6d0d-fcb6-4cf0-df81-a39d03ef0c33"
      },
      "source": [
        "df['Engine_Capacity_.CC.'].describe()\r\n"
      ],
      "execution_count": null,
      "outputs": [
        {
          "output_type": "execute_result",
          "data": {
            "text/plain": [
              "count    1.508424e+06\n",
              "mean     1.656617e+03\n",
              "std      4.791368e+02\n",
              "min      2.520000e+02\n",
              "25%      1.331000e+03\n",
              "50%      1.598000e+03\n",
              "75%      1.991000e+03\n",
              "max      3.020000e+03\n",
              "Name: Engine_Capacity_.CC., dtype: float64"
            ]
          },
          "metadata": {
            "tags": []
          },
          "execution_count": 16
        }
      ]
    },
    {
      "cell_type": "code",
      "metadata": {
        "id": "9x6m5ScXJ1PL"
      },
      "source": [
        "df_num = df[['Accident_Index', 'Accident_Severity', 'Date', 'Day_of_Week',\r\n",
        "       'Number_of_Casualties', 'Number_of_Vehicles', 'Speed_limit', 'Time',\r\n",
        "       'Weather_Conditions', 'Year', 'Age_Band_of_Driver', 'Age_of_Vehicle',\r\n",
        "       'Engine_Capacity_.CC.']]\r\n"
      ],
      "execution_count": null,
      "outputs": []
    },
    {
      "cell_type": "code",
      "metadata": {
        "colab": {
          "base_uri": "https://localhost:8080/",
          "height": 499
        },
        "id": "NzU4kjqyKUa5",
        "outputId": "c739d86e-cde8-4ff4-fc85-792479406a1d"
      },
      "source": [
        "df_num.hist( bins=25, grid=False, figsize=(14,8))\r\n",
        "plt.style.use('dark_background')\r\n"
      ],
      "execution_count": null,
      "outputs": [
        {
          "output_type": "display_data",
          "data": {
            "image/png": "[encoded data removed]",
            "text/plain": [
              "<Figure size 1008x576 with 6 Axes>"
            ]
          },
          "metadata": {
            "tags": []
          }
        }
      ]
    },
    {
      "cell_type": "code",
      "metadata": {
        "colab": {
          "base_uri": "https://localhost:8080/",
          "height": 496
        },
        "id": "Gyr1k_HymgSi",
        "outputId": "063f041b-4a56-4647-9d4a-e4efdae018db"
      },
      "source": [
        "speed_zone_accidents = df.loc[df['Speed_limit'].isin(['20' ,'30' ,'40' ,'50' ,'60' ,'70'])]\r\n",
        "speed = speed_zone_accidents.Speed_limit.value_counts()\r\n",
        "\r\n",
        "explode = (0.0, 0.0, 0.0 , 0.0 ,0.0,0.0) \r\n",
        "plt.figure(figsize=(10,8))\r\n",
        "plt.pie(speed.values,  labels=None, \r\n",
        "        autopct='%.1f',pctdistance=0.8, labeldistance=1.9 ,explode = explode, shadow=False, startangle=160,textprops={'fontsize': 15})\r\n",
        " \r\n",
        "plt.axis('equal')\r\n",
        "plt.legend(speed.index, bbox_to_anchor=(1,0.7), loc=\"center right\", fontsize=15, \r\n",
        "           bbox_transform=plt.gcf().transFigure)\r\n",
        "plt.figtext(.5,.9,'Accidents percentage in Speed Zone', fontsize=25, ha='center')\r\n",
        "plt.show()"
      ],
      "execution_count": null,
      "outputs": [
        {
          "output_type": "display_data",
          "data": {
            "image/png": "[encoded data removed]",
            "text/plain": [
              "<Figure size 720x576 with 1 Axes>"
            ]
          },
          "metadata": {
            "tags": []
          }
        }
      ]
    },
    {
      "cell_type": "markdown",
      "metadata": {
        "id": "B4MKhfmHkgCU"
      },
      "source": [
        "DataGroup creating and Engineering features"
      ]
    },
    {
      "cell_type": "code",
      "metadata": {
        "colab": {
          "base_uri": "https://localhost:8080/"
        },
        "id": "sImjdsc3kUCV",
        "outputId": "d28bca54-cf84-4128-8c14-cee79219a978"
      },
      "source": [
        "# #number_of_casualties\r\n",
        "df['Number_of_Casualties'].value_counts()"
      ],
      "execution_count": null,
      "outputs": [
        {
          "output_type": "execute_result",
          "data": {
            "text/plain": [
              "1     1045871\n",
              "2      303754\n",
              "3       98104\n",
              "4       36574\n",
              "5       14201\n",
              "6        5698\n",
              "7        2048\n",
              "8         935\n",
              "9         434\n",
              "10        233\n",
              "11        151\n",
              "12         89\n",
              "13         79\n",
              "14         45\n",
              "70         40\n",
              "16         39\n",
              "36         26\n",
              "26         21\n",
              "17         15\n",
              "15         14\n",
              "19          7\n",
              "18          7\n",
              "21          6\n",
              "87          4\n",
              "22          4\n",
              "24          4\n",
              "43          3\n",
              "29          3\n",
              "38          2\n",
              "40          2\n",
              "25          2\n",
              "93          1\n",
              "23          1\n",
              "27          1\n",
              "32          1\n",
              "41          1\n",
              "42          1\n",
              "58          1\n",
              "62          1\n",
              "20          1\n",
              "Name: Number_of_Casualties, dtype: int64"
            ]
          },
          "metadata": {
            "tags": []
          },
          "execution_count": 20
        }
      ]
    },
    {
      "cell_type": "code",
      "metadata": {
        "id": "t5yHVeO5kb7m"
      },
      "source": [
        "#create casualities grouping\r\n",
        "\r\n",
        "def casualities(num_cas):\r\n",
        "    if num_cas >=1 and num_cas <2:\r\n",
        "        return \"1\"\r\n",
        "    elif num_cas >=2 and num_cas <3:\r\n",
        "        return \"2\"\r\n",
        "    elif num_cas >=3 and num_cas <4:\r\n",
        "        return \"3\"\r\n",
        "    elif num_cas >= 4 and num_cas <5:\r\n",
        "        return \"4\"\r\n",
        "    elif num_cas >= 5:\r\n",
        "        return \"5+\""
      ],
      "execution_count": null,
      "outputs": []
    },
    {
      "cell_type": "code",
      "metadata": {
        "id": "YgLu_SC3ko95"
      },
      "source": [
        "#apply function   \r\n",
        "df['Number_of_Casualties']= df['Number_of_Casualties'].apply(casualities)\r\n"
      ],
      "execution_count": null,
      "outputs": []
    },
    {
      "cell_type": "code",
      "metadata": {
        "colab": {
          "base_uri": "https://localhost:8080/"
        },
        "id": "TII-Rz6uk5OX",
        "outputId": "d66ac79b-01e7-40aa-c174-298f68379464"
      },
      "source": [
        "#number_of_casualties\r\n",
        "df['Number_of_Casualties'].value_counts()"
      ],
      "execution_count": null,
      "outputs": [
        {
          "output_type": "execute_result",
          "data": {
            "text/plain": [
              "1     1045871\n",
              "2      303754\n",
              "3       98104\n",
              "4       36574\n",
              "5+      24121\n",
              "Name: Number_of_Casualties, dtype: int64"
            ]
          },
          "metadata": {
            "tags": []
          },
          "execution_count": 23
        }
      ]
    },
    {
      "cell_type": "markdown",
      "metadata": {
        "id": "nKyrkEW8FhIr"
      },
      "source": [
        "This function below returns the number of unique elements we have for each variable hence make it easier to identify which variable can be seen as factors"
      ]
    },
    {
      "cell_type": "code",
      "metadata": {
        "colab": {
          "base_uri": "https://localhost:8080/"
        },
        "id": "ZwIb6pMpCZzX",
        "outputId": "6f38c0d2-d2b0-4b7b-8e56-c1a176aea49d"
      },
      "source": [
        "\r\n",
        "# #unique values\r\n",
        "df.nunique().sort_values(ascending=False)"
      ],
      "execution_count": null,
      "outputs": [
        {
          "output_type": "execute_result",
          "data": {
            "text/plain": [
              "Accident_Index             1124072\n",
              "Date                          4383\n",
              "Time                          1439\n",
              "Engine_Capacity_.CC.          1343\n",
              "Age_of_Vehicle                  80\n",
              "Number_of_Vehicles              27\n",
              "Age_Band_of_Driver              12\n",
              "Year                            12\n",
              "Weather_Conditions              10\n",
              "Speed_limit                      8\n",
              "Day_of_Week                      7\n",
              "Road_Surface_Conditions          6\n",
              "Light_Conditions                 6\n",
              "Number_of_Casualties             5\n",
              "Accident_Severity                3\n",
              "dtype: int64"
            ]
          },
          "metadata": {
            "tags": []
          },
          "execution_count": 24
        }
      ]
    },
    {
      "cell_type": "markdown",
      "metadata": {
        "id": "tOH5ua2iFuOD"
      },
      "source": [
        "I’ve added a bunch of new features such as Year, Month, Week and time_slot. Those features will be crucial to make deeper exploratory analysis.\r\n",
        "\r\n"
      ]
    },
    {
      "cell_type": "code",
      "metadata": {
        "id": "KwuJ0Wv9Fu3X"
      },
      "source": [
        "df['Date'] = pd.to_datetime(df['Date'])\r\n",
        "df['month'] = df ['Date'].apply(lambda time: time.month)\r\n",
        "#creating a weekend feature that includes Friday-Sunday\r\n",
        "df['weekend']= np.where(df['Day_of_Week'].isin(['Friday', 'Saturday', 'Sunday']), 1, 0)\r\n",
        "\r\n",
        "#create time of day feature with Morning Rush, Day, Noon Rush, Afternoon, After Work Rush, Night\r\n",
        "\r\n",
        "#time of day dictionary\r\n",
        "timeofdaygroups = {1: \"Morning Rush (6-10)\",\r\n",
        "                   2: \"Day (10-12)\",\r\n",
        "                   3: \"Lunch Rush (12-14)\",\r\n",
        "                   4: \"Afternoon (14-16)\",\r\n",
        "                   5: \"After Work Rush (16-18)\",\r\n",
        "                   6: \"Evening (18-22)\",\r\n",
        "                   7: \"Night (22-6)\"}\r\n",
        "\r\n",
        "                  "
      ],
      "execution_count": null,
      "outputs": []
    },
    {
      "cell_type": "code",
      "metadata": {
        "id": "Ccv4o9ayGaJ6"
      },
      "source": [
        "#pull time data and create hour column\r\n",
        "df['hour'] = df['Time'].str[0:2]\r\n",
        " \r\n",
        "#convert to numeric    \r\n",
        "df['hour'] =  pd.to_numeric(df['hour'])\r\n",
        "df['hour'] = df['hour'].fillna(-1)\r\n",
        "#convert to integer\r\n",
        "df['hour'] = df['hour'].astype('int')\r\n"
      ],
      "execution_count": null,
      "outputs": []
    },
    {
      "cell_type": "code",
      "metadata": {
        "id": "XNlNGS9QJyLy"
      },
      "source": [
        "\r\n",
        "#create time_of_day grouping\r\n",
        "\r\n",
        "def daygroup(hour):\r\n",
        "    if hour >= 6 and hour < 10:\r\n",
        "        return \"1\"\r\n",
        "    elif hour >= 10 and hour < 12:\r\n",
        "        return \"2\"\r\n",
        "    elif hour >= 12 and hour < 14:\r\n",
        "        return \"3\"\r\n",
        "    elif hour >= 14 and hour < 16:\r\n",
        "        return \"4\"\r\n",
        "    elif hour >= 16 and hour < 18:\r\n",
        "        return \"5\"\r\n",
        "    elif hour >= 18 and hour < 22:\r\n",
        "        return \"6\"\r\n",
        "    else:\r\n",
        "        return \"7\"\r\n"
      ],
      "execution_count": null,
      "outputs": []
    },
    {
      "cell_type": "code",
      "metadata": {
        "colab": {
          "base_uri": "https://localhost:8080/",
          "height": 359
        },
        "id": "prhoFNeyJ2hH",
        "outputId": "a0883ebc-124f-4865-d466-7d74a6182774"
      },
      "source": [
        "df['time_of_day']= df['hour'].apply(daygroup)\r\n",
        "df[['weekend','Day_of_Week','Time', 'time_of_day']].tail(10)\r\n"
      ],
      "execution_count": null,
      "outputs": [
        {
          "output_type": "execute_result",
          "data": {
            "text/html": [
              "<div>\n",
              "<style scoped>\n",
              "    .dataframe tbody tr th:only-of-type {\n",
              "        vertical-align: middle;\n",
              "    }\n",
              "\n",
              "    .dataframe tbody tr th {\n",
              "        vertical-align: top;\n",
              "    }\n",
              "\n",
              "    .dataframe thead th {\n",
              "        text-align: right;\n",
              "    }\n",
              "</style>\n",
              "<table border=\"1\" class=\"dataframe\">\n",
              "  <thead>\n",
              "    <tr style=\"text-align: right;\">\n",
              "      <th></th>\n",
              "      <th>weekend</th>\n",
              "      <th>Day_of_Week</th>\n",
              "      <th>Time</th>\n",
              "      <th>time_of_day</th>\n",
              "    </tr>\n",
              "  </thead>\n",
              "  <tbody>\n",
              "    <tr>\n",
              "      <th>2058395</th>\n",
              "      <td>0</td>\n",
              "      <td>Monday</td>\n",
              "      <td>11:40</td>\n",
              "      <td>2</td>\n",
              "    </tr>\n",
              "    <tr>\n",
              "      <th>2058396</th>\n",
              "      <td>0</td>\n",
              "      <td>Wednesday</td>\n",
              "      <td>17:00</td>\n",
              "      <td>5</td>\n",
              "    </tr>\n",
              "    <tr>\n",
              "      <th>2058397</th>\n",
              "      <td>0</td>\n",
              "      <td>Monday</td>\n",
              "      <td>16:32</td>\n",
              "      <td>5</td>\n",
              "    </tr>\n",
              "    <tr>\n",
              "      <th>2058398</th>\n",
              "      <td>0</td>\n",
              "      <td>Monday</td>\n",
              "      <td>16:32</td>\n",
              "      <td>5</td>\n",
              "    </tr>\n",
              "    <tr>\n",
              "      <th>2058399</th>\n",
              "      <td>0</td>\n",
              "      <td>Thursday</td>\n",
              "      <td>12:00</td>\n",
              "      <td>3</td>\n",
              "    </tr>\n",
              "    <tr>\n",
              "      <th>2058401</th>\n",
              "      <td>1</td>\n",
              "      <td>Friday</td>\n",
              "      <td>06:45</td>\n",
              "      <td>1</td>\n",
              "    </tr>\n",
              "    <tr>\n",
              "      <th>2058402</th>\n",
              "      <td>1</td>\n",
              "      <td>Friday</td>\n",
              "      <td>06:45</td>\n",
              "      <td>1</td>\n",
              "    </tr>\n",
              "    <tr>\n",
              "      <th>2058403</th>\n",
              "      <td>0</td>\n",
              "      <td>Tuesday</td>\n",
              "      <td>16:45</td>\n",
              "      <td>5</td>\n",
              "    </tr>\n",
              "    <tr>\n",
              "      <th>2058406</th>\n",
              "      <td>1</td>\n",
              "      <td>Saturday</td>\n",
              "      <td>20:00</td>\n",
              "      <td>6</td>\n",
              "    </tr>\n",
              "    <tr>\n",
              "      <th>2058407</th>\n",
              "      <td>1</td>\n",
              "      <td>Sunday</td>\n",
              "      <td>12:30</td>\n",
              "      <td>3</td>\n",
              "    </tr>\n",
              "  </tbody>\n",
              "</table>\n",
              "</div>"
            ],
            "text/plain": [
              "         weekend Day_of_Week   Time time_of_day\n",
              "2058395        0      Monday  11:40           2\n",
              "2058396        0   Wednesday  17:00           5\n",
              "2058397        0      Monday  16:32           5\n",
              "2058398        0      Monday  16:32           5\n",
              "2058399        0    Thursday  12:00           3\n",
              "2058401        1      Friday  06:45           1\n",
              "2058402        1      Friday  06:45           1\n",
              "2058403        0     Tuesday  16:45           5\n",
              "2058406        1    Saturday  20:00           6\n",
              "2058407        1      Sunday  12:30           3"
            ]
          },
          "metadata": {
            "tags": []
          },
          "execution_count": 28
        }
      ]
    },
    {
      "cell_type": "code",
      "metadata": {
        "colab": {
          "base_uri": "https://localhost:8080/",
          "height": 559
        },
        "id": "bAEQgtp-mLo2",
        "outputId": "2e0d6f9f-daf5-4871-c0d9-734ffd040944"
      },
      "source": [
        "corr = df.corr()\r\n",
        "plt.subplots(figsize=(20,9))\r\n",
        "sns.heatmap(corr)"
      ],
      "execution_count": null,
      "outputs": [
        {
          "output_type": "execute_result",
          "data": {
            "text/plain": [
              "<matplotlib.axes._subplots.AxesSubplot at 0x7fda3c76f400>"
            ]
          },
          "metadata": {
            "tags": []
          },
          "execution_count": 29
        },
        {
          "output_type": "display_data",
          "data": {
            "image/png": "[encoded data removed]",
            "text/plain": [
              "<Figure size 1440x648 with 2 Axes>"
            ]
          },
          "metadata": {
            "tags": []
          }
        }
      ]
    },
    {
      "cell_type": "code",
      "metadata": {
        "colab": {
          "base_uri": "https://localhost:8080/",
          "height": 309
        },
        "id": "0kYPHUbGZySv",
        "outputId": "40da3a02-9f50-4611-e53b-df9e2061bfe2"
      },
      "source": [
        "df.head()"
      ],
      "execution_count": null,
      "outputs": [
        {
          "output_type": "execute_result",
          "data": {
            "text/html": [
              "<div>\n",
              "<style scoped>\n",
              "    .dataframe tbody tr th:only-of-type {\n",
              "        vertical-align: middle;\n",
              "    }\n",
              "\n",
              "    .dataframe tbody tr th {\n",
              "        vertical-align: top;\n",
              "    }\n",
              "\n",
              "    .dataframe thead th {\n",
              "        text-align: right;\n",
              "    }\n",
              "</style>\n",
              "<table border=\"1\" class=\"dataframe\">\n",
              "  <thead>\n",
              "    <tr style=\"text-align: right;\">\n",
              "      <th></th>\n",
              "      <th>Accident_Index</th>\n",
              "      <th>Accident_Severity</th>\n",
              "      <th>Date</th>\n",
              "      <th>Day_of_Week</th>\n",
              "      <th>Light_Conditions</th>\n",
              "      <th>Number_of_Casualties</th>\n",
              "      <th>Number_of_Vehicles</th>\n",
              "      <th>Road_Surface_Conditions</th>\n",
              "      <th>Speed_limit</th>\n",
              "      <th>Time</th>\n",
              "      <th>Weather_Conditions</th>\n",
              "      <th>Year</th>\n",
              "      <th>Age_Band_of_Driver</th>\n",
              "      <th>Age_of_Vehicle</th>\n",
              "      <th>Engine_Capacity_.CC.</th>\n",
              "      <th>month</th>\n",
              "      <th>weekend</th>\n",
              "      <th>hour</th>\n",
              "      <th>time_of_day</th>\n",
              "    </tr>\n",
              "  </thead>\n",
              "  <tbody>\n",
              "    <tr>\n",
              "      <th>2</th>\n",
              "      <td>200501BS00004</td>\n",
              "      <td>Slight</td>\n",
              "      <td>2005-01-07</td>\n",
              "      <td>Friday</td>\n",
              "      <td>Daylight</td>\n",
              "      <td>1</td>\n",
              "      <td>1</td>\n",
              "      <td>Dry</td>\n",
              "      <td>30.0</td>\n",
              "      <td>10:35</td>\n",
              "      <td>Fine no high winds</td>\n",
              "      <td>2005</td>\n",
              "      <td>46 - 55</td>\n",
              "      <td>4.0</td>\n",
              "      <td>1769.0</td>\n",
              "      <td>1</td>\n",
              "      <td>1</td>\n",
              "      <td>10</td>\n",
              "      <td>2</td>\n",
              "    </tr>\n",
              "    <tr>\n",
              "      <th>4</th>\n",
              "      <td>200501BS00006</td>\n",
              "      <td>Slight</td>\n",
              "      <td>2005-01-11</td>\n",
              "      <td>Tuesday</td>\n",
              "      <td>Daylight</td>\n",
              "      <td>1</td>\n",
              "      <td>2</td>\n",
              "      <td>Wet or damp</td>\n",
              "      <td>30.0</td>\n",
              "      <td>12:40</td>\n",
              "      <td>Raining no high winds</td>\n",
              "      <td>2005</td>\n",
              "      <td>46 - 55</td>\n",
              "      <td>1.0</td>\n",
              "      <td>2976.0</td>\n",
              "      <td>1</td>\n",
              "      <td>0</td>\n",
              "      <td>12</td>\n",
              "      <td>3</td>\n",
              "    </tr>\n",
              "    <tr>\n",
              "      <th>9</th>\n",
              "      <td>200501BS00012</td>\n",
              "      <td>Slight</td>\n",
              "      <td>2005-01-16</td>\n",
              "      <td>Sunday</td>\n",
              "      <td>Darkness - lights lit</td>\n",
              "      <td>1</td>\n",
              "      <td>1</td>\n",
              "      <td>Dry</td>\n",
              "      <td>30.0</td>\n",
              "      <td>00:42</td>\n",
              "      <td>Fine no high winds</td>\n",
              "      <td>2005</td>\n",
              "      <td>26 - 35</td>\n",
              "      <td>6.0</td>\n",
              "      <td>1988.0</td>\n",
              "      <td>1</td>\n",
              "      <td>1</td>\n",
              "      <td>0</td>\n",
              "      <td>7</td>\n",
              "    </tr>\n",
              "    <tr>\n",
              "      <th>11</th>\n",
              "      <td>200501BS00016</td>\n",
              "      <td>Slight</td>\n",
              "      <td>2005-01-18</td>\n",
              "      <td>Tuesday</td>\n",
              "      <td>Darkness - lights lit</td>\n",
              "      <td>1</td>\n",
              "      <td>2</td>\n",
              "      <td>Wet or damp</td>\n",
              "      <td>30.0</td>\n",
              "      <td>05:01</td>\n",
              "      <td>Raining no high winds</td>\n",
              "      <td>2005</td>\n",
              "      <td>26 - 35</td>\n",
              "      <td>2.0</td>\n",
              "      <td>698.0</td>\n",
              "      <td>1</td>\n",
              "      <td>0</td>\n",
              "      <td>5</td>\n",
              "      <td>7</td>\n",
              "    </tr>\n",
              "    <tr>\n",
              "      <th>12</th>\n",
              "      <td>200501BS00016</td>\n",
              "      <td>Slight</td>\n",
              "      <td>2005-01-18</td>\n",
              "      <td>Tuesday</td>\n",
              "      <td>Darkness - lights lit</td>\n",
              "      <td>1</td>\n",
              "      <td>2</td>\n",
              "      <td>Wet or damp</td>\n",
              "      <td>30.0</td>\n",
              "      <td>05:01</td>\n",
              "      <td>Raining no high winds</td>\n",
              "      <td>2005</td>\n",
              "      <td>26 - 35</td>\n",
              "      <td>4.0</td>\n",
              "      <td>2148.0</td>\n",
              "      <td>1</td>\n",
              "      <td>0</td>\n",
              "      <td>5</td>\n",
              "      <td>7</td>\n",
              "    </tr>\n",
              "  </tbody>\n",
              "</table>\n",
              "</div>"
            ],
            "text/plain": [
              "   Accident_Index Accident_Severity       Date  ... weekend hour time_of_day\n",
              "2   200501BS00004            Slight 2005-01-07  ...       1   10           2\n",
              "4   200501BS00006            Slight 2005-01-11  ...       0   12           3\n",
              "9   200501BS00012            Slight 2005-01-16  ...       1    0           7\n",
              "11  200501BS00016            Slight 2005-01-18  ...       0    5           7\n",
              "12  200501BS00016            Slight 2005-01-18  ...       0    5           7\n",
              "\n",
              "[5 rows x 19 columns]"
            ]
          },
          "metadata": {
            "tags": []
          },
          "execution_count": 46
        }
      ]
    },
    {
      "cell_type": "markdown",
      "metadata": {
        "id": "iBNtRU4g7W2f"
      },
      "source": [
        "Splitting and prepare data for LightGBM Model Implementation "
      ]
    },
    {
      "cell_type": "code",
      "metadata": {
        "colab": {
          "base_uri": "https://localhost:8080/"
        },
        "id": "l6aoQv7H2O7C",
        "outputId": "4096d0a9-a348-45cf-89f2-8a8ddaf3ce75"
      },
      "source": [
        "\r\n",
        "\r\n",
        "num_cols = ['Engine_Capacity_.CC.']\r\n",
        "# define categorical feature columns\r\n",
        "cat_cols = ['Number_of_Casualties', 'Number_of_Vehicles',\r\n",
        "       'Road_Surface_Conditions', 'Speed_limit','weekend',\r\n",
        "        'Age_Band_of_Driver', 'Age_of_Vehicle', 'Engine_Capacity_.CC.']\r\n",
        "\r\n",
        "# define target col\r\n",
        "target_col = ['Accident_Severity']\r\n",
        "\r\n",
        "cols = cat_cols + num_cols + target_col\r\n",
        "\r\n",
        "# copy dataframe - just to be safe\r\n",
        "df_model = df[cols].copy()\r\n",
        "df_model.shape"
      ],
      "execution_count": null,
      "outputs": [
        {
          "output_type": "execute_result",
          "data": {
            "text/plain": [
              "(1508424, 10)"
            ]
          },
          "metadata": {
            "tags": []
          },
          "execution_count": 30
        }
      ]
    },
    {
      "cell_type": "markdown",
      "metadata": {
        "id": "jJU5RFQf7h07"
      },
      "source": [
        "create Dummy variables  from categorical features which makes them a lot easier to quantify and compare"
      ]
    },
    {
      "cell_type": "code",
      "metadata": {
        "colab": {
          "base_uri": "https://localhost:8080/"
        },
        "id": "MUaDGQ0O2ayY",
        "outputId": "b4d4d280-f6cc-4b9e-cb7c-f6ed79255246"
      },
      "source": [
        "# create dummy variables from the categorical features\r\n",
        "dummies = pd.get_dummies(df_model[cat_cols], drop_first=True)\r\n",
        "df_model = pd.concat([df_model[num_cols], df_model[target_col], dummies], axis=1)\r\n",
        "df_model.shape"
      ],
      "execution_count": null,
      "outputs": [
        {
          "output_type": "execute_result",
          "data": {
            "text/plain": [
              "(1508424, 29)"
            ]
          },
          "metadata": {
            "tags": []
          },
          "execution_count": 31
        }
      ]
    },
    {
      "cell_type": "code",
      "metadata": {
        "colab": {
          "base_uri": "https://localhost:8080/"
        },
        "id": "ZY_QLajr2gD2",
        "outputId": "14663c22-66b5-46de-e503-9a6dd2bd9d7f"
      },
      "source": [
        "df_model.isna().sum().sum()\r\n"
      ],
      "execution_count": null,
      "outputs": [
        {
          "output_type": "execute_result",
          "data": {
            "text/plain": [
              "0"
            ]
          },
          "metadata": {
            "tags": []
          },
          "execution_count": 32
        }
      ]
    },
    {
      "cell_type": "code",
      "metadata": {
        "id": "MakrKYrM2iwI"
      },
      "source": [
        "# define our features \r\n",
        "features = df_model.drop(['Accident_Severity'], axis=1)\r\n",
        "\r\n",
        "# define our target\r\n",
        "target = df_model[['Accident_Severity']]"
      ],
      "execution_count": null,
      "outputs": []
    },
    {
      "cell_type": "code",
      "metadata": {
        "id": "wWGeS2MT2ptv"
      },
      "source": [
        "from sklearn.model_selection import train_test_split\r\n",
        "\r\n",
        "# split our data\r\n",
        "X_train, X_test, y_train, y_test = train_test_split(features, target, test_size=0.2)"
      ],
      "execution_count": null,
      "outputs": []
    },
    {
      "cell_type": "code",
      "metadata": {
        "colab": {
          "base_uri": "https://localhost:8080/"
        },
        "id": "VTg8lDXk2rZv",
        "outputId": "a15fc106-e823-40f9-b7b7-5922a17e26f4"
      },
      "source": [
        "df_model['Accident_Severity'].value_counts(normalize=True)\r\n"
      ],
      "execution_count": null,
      "outputs": [
        {
          "output_type": "execute_result",
          "data": {
            "text/plain": [
              "Slight     0.864942\n",
              "Serious    0.122605\n",
              "Fatal      0.012453\n",
              "Name: Accident_Severity, dtype: float64"
            ]
          },
          "metadata": {
            "tags": []
          },
          "execution_count": 35
        }
      ]
    },
    {
      "cell_type": "markdown",
      "metadata": {
        "id": "tgznHenu70IV"
      },
      "source": [
        "LightGBM Model for Classification\r\n",
        " implementation"
      ]
    },
    {
      "cell_type": "code",
      "metadata": {
        "colab": {
          "base_uri": "https://localhost:8080/"
        },
        "id": "TmlbwL1y5NWI",
        "outputId": "e9c10ba0-e7e4-441d-c115-fa17b827f76f"
      },
      "source": [
        "# evaluate the model\r\n",
        "model = LGBMClassifier()\r\n",
        "\r\n",
        "# fit the model on the whole dataset\r\n",
        "model = LGBMClassifier()\r\n",
        "model.fit(X_train, y_train)\r\n",
        "# make  prediction\r\n",
        "y_pred = model.predict(X_test)\r\n",
        "\r\n",
        "# evaluate\r\n",
        "report = classification_report(y_test, y_pred)\r\n",
        "print('Classification Report LightGBM : \\n', report)"
      ],
      "execution_count": null,
      "outputs": [
        {
          "output_type": "stream",
          "text": [
            "Classification Report LightGBM : \n",
            "               precision    recall  f1-score   support\n",
            "\n",
            "       Fatal       0.86      0.00      0.01      3710\n",
            "     Serious       0.53      0.01      0.02     37104\n",
            "      Slight       0.87      1.00      0.93    260871\n",
            "\n",
            "    accuracy                           0.87    301685\n",
            "   macro avg       0.75      0.34      0.32    301685\n",
            "weighted avg       0.82      0.87      0.81    301685\n",
            "\n"
          ],
          "name": "stdout"
        }
      ]
    },
    {
      "cell_type": "code",
      "metadata": {
        "colab": {
          "base_uri": "https://localhost:8080/",
          "height": 311
        },
        "id": "L_xkqefVUamh",
        "outputId": "a498f3ad-2bdd-4e9e-fd2c-c74be2474ad4"
      },
      "source": [
        "# create confusion matrix# create confusion matrix\r\n",
        "matrix = confusion_matrix(y_test, y_pred)\r\n",
        "\r\n",
        "# create dataframe\r\n",
        "class_names = df_model.Accident_Severity.values\r\n",
        "dataframe = pd.DataFrame(matrix, index=['Fatal', 'Serious', 'Slight'], \r\n",
        "                         columns=['Fatal', 'Serious', 'Slight'])\r\n",
        "\r\n",
        "# create heatmap\r\n",
        "sns.heatmap(dataframe, annot=True, cbar=None, cmap='Blues')\r\n",
        "plt.title('Confusion Matrix')\r\n",
        "plt.tight_layout(), plt.xlabel('True Values'), plt.ylabel('Predicted Values')\r\n",
        "plt.show()"
      ],
      "execution_count": null,
      "outputs": [
        {
          "output_type": "display_data",
          "data": {
            "image/png": "[encoded data removed]",
            "text/plain": [
              "<Figure size 432x288 with 1 Axes>"
            ]
          },
          "metadata": {
            "tags": []
          }
        }
      ]
    },
    {
      "cell_type": "code",
      "metadata": {
        "colab": {
          "base_uri": "https://localhost:8080/"
        },
        "id": "Pa5UVvVQ8SQb",
        "outputId": "60b02f0e-1a65-4769-a52f-0f19253818d6"
      },
      "source": [
        "cross_val_score(model, X_train, y_train, scoring='f1_macro', n_jobs=-1)\r\n"
      ],
      "execution_count": null,
      "outputs": [
        {
          "output_type": "execute_result",
          "data": {
            "text/plain": [
              "array([0.31724656, 0.31848162, 0.31767481, 0.31734149, 0.31716052])"
            ]
          },
          "metadata": {
            "tags": []
          },
          "execution_count": 38
        }
      ]
    },
    {
      "cell_type": "markdown",
      "metadata": {
        "id": "llOd5i9N8NWN"
      },
      "source": [
        "Managing Imblance Classes with SMOTE\r\n"
      ]
    },
    {
      "cell_type": "code",
      "metadata": {
        "id": "jr7EXxIhS3_i"
      },
      "source": [
        "from imblearn.over_sampling import SMOTE\r\n"
      ],
      "execution_count": null,
      "outputs": []
    },
    {
      "cell_type": "code",
      "metadata": {
        "colab": {
          "base_uri": "https://localhost:8080/"
        },
        "id": "nguEjYfMTn6Y",
        "outputId": "781bbc6c-480b-4819-935f-3844cdd69bb4"
      },
      "source": [
        "# view previous class distribution\r\n",
        "print('Before Upsampling with SMOTE:'), print(target['Accident_Severity'].value_counts())\r\n",
        "\r\n",
        "# resample data ONLY using training data\r\n",
        "X_resampled, y_resampled = SMOTE().fit_sample(X_train, y_train) \r\n",
        "\r\n",
        "# view synthetic sample class distribution\r\n",
        "print('\\nAfter Upsampling with SMOTE:'), print(pd.Series(y_resampled).value_counts())"
      ],
      "execution_count": null,
      "outputs": [
        {
          "output_type": "stream",
          "text": [
            "Before Upsampling with SMOTE:\n",
            "Slight     1304700\n",
            "Serious     184940\n",
            "Fatal        18784\n",
            "Name: Accident_Severity, dtype: int64\n",
            "\n",
            "After Upsampling with SMOTE:\n",
            "Fatal      1043829\n",
            "Slight     1043829\n",
            "Serious    1043829\n",
            "dtype: int64\n"
          ],
          "name": "stdout"
        },
        {
          "output_type": "execute_result",
          "data": {
            "text/plain": [
              "(None, None)"
            ]
          },
          "metadata": {
            "tags": []
          },
          "execution_count": 40
        }
      ]
    },
    {
      "cell_type": "code",
      "metadata": {
        "id": "-sVwBsCCTvG8"
      },
      "source": [
        "\r\n",
        "X_train, X_test, y_train, y_test = train_test_split(X_resampled, y_resampled, random_state=0)"
      ],
      "execution_count": null,
      "outputs": []
    },
    {
      "cell_type": "code",
      "metadata": {
        "colab": {
          "base_uri": "https://localhost:8080/"
        },
        "id": "kmcU2ZB_T-84",
        "outputId": "50118ced-43cd-4ae0-e89e-b492393ff644"
      },
      "source": [
        "# evaluate the model\r\n",
        "model2= LGBMClassifier()\r\n",
        "\r\n",
        "# fit the model on the whole dataset\r\n",
        "model2 = LGBMClassifier()\r\n",
        "model2.fit(X_train, y_train)\r\n",
        "# make  prediction\r\n",
        "y_pred = model2.predict(X_test)\r\n",
        "\r\n",
        "# evaluate\r\n",
        "report = classification_report(y_test, y_pred)\r\n",
        "print('Classification Report LightGBM \\n', report)"
      ],
      "execution_count": null,
      "outputs": [
        {
          "output_type": "stream",
          "text": [
            "Classification Report LightGBM \n",
            "               precision    recall  f1-score   support\n",
            "\n",
            "       Fatal       0.76      0.83      0.79    260700\n",
            "     Serious       0.75      0.50      0.60    261641\n",
            "      Slight       0.79      0.98      0.87    260531\n",
            "\n",
            "    accuracy                           0.77    782872\n",
            "   macro avg       0.77      0.77      0.76    782872\n",
            "weighted avg       0.77      0.77      0.76    782872\n",
            "\n"
          ],
          "name": "stdout"
        }
      ]
    },
    {
      "cell_type": "code",
      "metadata": {
        "colab": {
          "base_uri": "https://localhost:8080/",
          "height": 311
        },
        "id": "WYChpxlyUYrY",
        "outputId": "1a83cae0-e7a3-4aae-8418-6940c802f4ea"
      },
      "source": [
        "# create confusion matrix# create confusion matrix\r\n",
        "matrix = confusion_matrix(y_test, y_pred)\r\n",
        "\r\n",
        "# create dataframe\r\n",
        "class_names = df_model.Accident_Severity.values\r\n",
        "dataframe = pd.DataFrame(matrix, index=['Fatal', 'Serious', 'Slight'], \r\n",
        "                         columns=['Fatal', 'Serious', 'Slight'])\r\n",
        "\r\n",
        "# create heatmap\r\n",
        "sns.heatmap(dataframe, annot=True, cbar=None, cmap='Blues')\r\n",
        "plt.title('Confusion Matrix')\r\n",
        "plt.tight_layout(), plt.xlabel('True Values'), plt.ylabel('Predicted Values')\r\n",
        "plt.show()"
      ],
      "execution_count": null,
      "outputs": [
        {
          "output_type": "display_data",
          "data": {
            "image/png": "[encoded data removed]",
            "text/plain": [
              "<Figure size 432x288 with 1 Axes>"
            ]
          },
          "metadata": {
            "tags": []
          }
        }
      ]
    },
    {
      "cell_type": "code",
      "metadata": {
        "colab": {
          "base_uri": "https://localhost:8080/"
        },
        "id": "3DEqMDGO8hnx",
        "outputId": "d82a6eec-8628-4315-8e26-03819d6e6c14"
      },
      "source": [
        "cross_val_score(model2, X_train, y_train, scoring='f1_macro', n_jobs=-1)\r\n"
      ],
      "execution_count": null,
      "outputs": [
        {
          "output_type": "execute_result",
          "data": {
            "text/plain": [
              "array([0.75516301, 0.75419894, 0.7553475 , 0.75570449, 0.75526307])"
            ]
          },
          "metadata": {
            "tags": []
          },
          "execution_count": 44
        }
      ]
    },
    {
      "cell_type": "code",
      "metadata": {
        "colab": {
          "base_uri": "https://localhost:8080/",
          "height": 334
        },
        "id": "rdw_eyNPZ_Or",
        "outputId": "c4ebf374-8241-4f13-ed3b-4227f379b0d2"
      },
      "source": [
        "# plot the important features\r\n",
        "feat_importances = pd.Series(model2.feature_importances_, index=features.columns)\r\n",
        "feat_importances.nlargest(10).sort_values().plot(kind='barh', color='darkgrey', figsize=(10,5))\r\n",
        "plt.xlabel('Relative Feature Importance with LightGBM');"
      ],
      "execution_count": null,
      "outputs": [
        {
          "output_type": "display_data",
          "data": {
            "image/png": "[encoded data removed]",
            "text/plain": [
              "<Figure size 720x360 with 1 Axes>"
            ]
          },
          "metadata": {
            "tags": []
          }
        }
      ]
    }
  ]
}